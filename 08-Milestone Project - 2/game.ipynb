{
 "cells": [
  {
   "cell_type": "code",
   "execution_count": 1,
   "metadata": {},
   "outputs": [],
   "source": [
    "import random"
   ]
  },
  {
   "cell_type": "code",
   "execution_count": 2,
   "metadata": {},
   "outputs": [],
   "source": [
    "suits = ('Hearts', 'Diamonds', 'Spades', 'Clubs')\n",
    "ranks = ('Two', 'Three', 'Four', 'Five', 'Six', 'Seven', 'Eight', 'Nine', 'Ten', 'Jack', 'Queen', 'King', 'Ace')\n",
    "values = {'Two':2, 'Three':3, 'Four':4, 'Five':5, 'Six':6, 'Seven':7, 'Eight':8, \n",
    "            'Nine':9, 'Ten':10, 'Jack':10, 'Queen':10, 'King':10, 'Ace':1}"
   ]
  },
  {
   "cell_type": "code",
   "execution_count": 3,
   "metadata": {},
   "outputs": [],
   "source": [
    "class Card:\n",
    "    def __init__(self,suit,rank):\n",
    "        self.suit = suit\n",
    "        self.rank = rank\n",
    "        self.value = values[rank]\n",
    "        \n",
    "    def __str__(self):\n",
    "        return self.rank + \" of \" + self.suit"
   ]
  },
  {
   "cell_type": "code",
   "execution_count": 4,
   "metadata": {},
   "outputs": [],
   "source": [
    "class Deck:\n",
    "    def __init__(self):\n",
    "        self.all_cards = []\n",
    "        for suit in suits:\n",
    "            for rank in ranks:\n",
    "                self.all_cards.append(Card(suit,rank))\n",
    "                \n",
    "    def shuffle(self):\n",
    "        random.shuffle(self.all_cards)\n",
    "        \n",
    "    def deal_one(self):\n",
    "        return self.all_cards.pop()"
   ]
  },
  {
   "cell_type": "code",
   "execution_count": 5,
   "metadata": {},
   "outputs": [],
   "source": [
    "mydek = Deck()"
   ]
  },
  {
   "cell_type": "code",
   "execution_count": 6,
   "metadata": {},
   "outputs": [],
   "source": [
    "mydek.shuffle()"
   ]
  },
  {
   "cell_type": "code",
   "execution_count": 7,
   "metadata": {},
   "outputs": [],
   "source": [
    "class Player:\n",
    "    def __init__(self,name):\n",
    "        self.name = name\n",
    "        self.all_cards = []\n",
    "        \n",
    "    def remove_one(self):\n",
    "        return self.all_cards.pop(0)\n",
    "    \n",
    "    def add_cards(self,new_cards):\n",
    "        if type(new_cards) == type([]):\n",
    "            self.all_cards.extend(new_cards)\n",
    "        else:\n",
    "            self.all_cards.append(new_cards)\n",
    "            \n",
    "    def __str__(self):\n",
    "        return f'Player {self.name} has {len(self.all_cards)} cards.'"
   ]
  },
  {
   "cell_type": "code",
   "execution_count": 8,
   "metadata": {},
   "outputs": [],
   "source": [
    "player = Player(\"P1\")\n",
    "dealer = Player(\"Dealer\")\n",
    "\n",
    "new_deck = Deck()\n",
    "new_deck.shuffle()\n",
    "\n",
    "for x in range(2):\n",
    "    player.add_cards(new_deck.deal_one())\n",
    "    dealer.add_cards(new_deck.deal_one())\n",
    "\n",
    "game_on = True"
   ]
  },
  {
   "cell_type": "code",
   "execution_count": 9,
   "metadata": {},
   "outputs": [
    {
     "name": "stdout",
     "output_type": "stream",
     "text": [
      "Round 1\n",
      "Dealing Cards...\n",
      "P1 has Nine of Spades and Eight of Hearts\n",
      "Dealer has Seven of Clubs and King of Spades\n",
      "P1 total is 17\n",
      "Dealer total is 17\n",
      "No one wins!\n",
      "P1 has Nine of Spades and Eight of Hearts\n",
      "Dealer has Seven of Clubs and King of Spades\n"
     ]
    }
   ],
   "source": [
    "round_num = 0\n",
    "while game_on:\n",
    "    round_num += 1\n",
    "    print(f\"Round {round_num}\")\n",
    "    print(\"Dealing Cards...\")\n",
    "    print(f\"{player.name} has {player.all_cards[0]} and {player.all_cards[1]}\")\n",
    "    print(f\"{dealer.name} has {dealer.all_cards[0]} and {dealer.all_cards[1]}\")\n",
    "\n",
    "    player_cards = []\n",
    "    player_cards.append(player.remove_one())\n",
    "    player_cards.append(player.remove_one())\n",
    "\n",
    "    dealer_cards = []\n",
    "    dealer_cards.append(dealer.remove_one())\n",
    "    dealer_cards.append(dealer.remove_one())\n",
    "\n",
    "    player.add_cards(player_cards)\n",
    "    dealer.add_cards(dealer_cards)\n",
    "\n",
    "    player_total = 0\n",
    "    for card in player_cards:\n",
    "        player_total += card.value\n",
    "\n",
    "    dealer_total = 0\n",
    "    for card in dealer_cards:\n",
    "        dealer_total += card.value\n",
    "\n",
    "    print(f\"{player.name} total is {player_total}\")\n",
    "    print(f\"{dealer.name} total is {dealer_total}\")\n",
    "\n",
    "    if player_total == 21:\n",
    "        print(f\"{player.name} wins!\")\n",
    "        game_on = False\n",
    "    elif dealer_total == 21:\n",
    "        print(f\"{dealer.name} wins!\")\n",
    "        game_on = False\n",
    "    elif player_total > 21:\n",
    "        print(f\"{player.name} busts!\")\n",
    "        game_on = False\n",
    "    elif dealer_total > 21:\n",
    "        print(f\"{dealer.name} busts!\")\n",
    "        game_on = False\n",
    "    else:\n",
    "        print(\"No one wins!\")\n",
    "        game_on = False\n",
    "\n",
    "    print(f\"{player.name} has {player.all_cards[0]} and {player.all_cards[1]}\")\n",
    "    print(f\"{dealer.name} has {dealer.all_cards[0]} and {dealer.all_cards[1]}\")\n",
    "\n",
    "    player_choice = input(\"Would you like to play again? (y/n): \")\n",
    "    if player_choice == \"y\":\n",
    "        game_on = True\n",
    "    else:\n",
    "        game_on = False"
   ]
  },
  {
   "cell_type": "code",
   "execution_count": null,
   "metadata": {},
   "outputs": [],
   "source": []
  }
 ],
 "metadata": {
  "kernelspec": {
   "display_name": "base",
   "language": "python",
   "name": "python3"
  },
  "language_info": {
   "codemirror_mode": {
    "name": "ipython",
    "version": 3
   },
   "file_extension": ".py",
   "mimetype": "text/x-python",
   "name": "python",
   "nbconvert_exporter": "python",
   "pygments_lexer": "ipython3",
   "version": "3.9.13"
  },
  "orig_nbformat": 4
 },
 "nbformat": 4,
 "nbformat_minor": 2
}
