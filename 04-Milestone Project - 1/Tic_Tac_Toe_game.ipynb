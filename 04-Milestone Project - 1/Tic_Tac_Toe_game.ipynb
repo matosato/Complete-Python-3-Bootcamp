{
 "cells": [
  {
   "cell_type": "code",
   "execution_count": 1,
   "metadata": {},
   "outputs": [],
   "source": [
    "game_list = [[0,0,0],[0,0,0],[0,0,0]]"
   ]
  },
  {
   "cell_type": "code",
   "execution_count": 13,
   "metadata": {},
   "outputs": [],
   "source": [
    "def display_game(game_list):\n",
    "    for x in range(len(game_list)):\n",
    "        print(game_list[x])"
   ]
  },
  {
   "cell_type": "code",
   "execution_count": 14,
   "metadata": {},
   "outputs": [
    {
     "name": "stdout",
     "output_type": "stream",
     "text": [
      "[0, 0, 0]\n",
      "[0, 0, 0]\n",
      "[0, 0, 0]\n"
     ]
    }
   ],
   "source": [
    "display_game(game_list)"
   ]
  },
  {
   "cell_type": "code",
   "execution_count": 21,
   "metadata": {},
   "outputs": [],
   "source": [
    "def position_choice():\n",
    "    d = {\"v\":'wrong',\"h\":'wrong'}\n",
    "    while d['v'] not in ['0','1','2']:\n",
    "        d['v'] = input(\"Pick a vertical position to relpace (0,1,2): \")\n",
    "\n",
    "        if d['v'] not in ['0','1','2']:\n",
    "            print(\"Sorry, but you did not choose a valid position (0,1,2)\")\n",
    "    \n",
    "    while d['h'] not in ['0','1','2']:\n",
    "        d['h']= input(\"Pick a horizontal position to relpace (0,1,2): \")\n",
    "\n",
    "        if d['h'] not in ['0','1','2']:\n",
    "            print(\"Sorry, but you did not choose a valid position (0,1,2)\") \n",
    "\n",
    "    return int(d['v']),int(d['h'])"
   ]
  },
  {
   "cell_type": "code",
   "execution_count": 23,
   "metadata": {},
   "outputs": [],
   "source": [
    "def replacement_choise(game_list,v_position,h_position):\n",
    "    \n",
    "    user_placement = input(\"Type a Tic or Tac to place at the position\")\n",
    "\n",
    "    game_list[v_position][h_position] = user_placement\n",
    "\n",
    "    return game_list"
   ]
  },
  {
   "cell_type": "code",
   "execution_count": 24,
   "metadata": {},
   "outputs": [],
   "source": [
    "def gameon_choice():\n",
    "\n",
    "    choice = 'wrong'\n",
    "\n",
    "    while choice not in ['Y','N']:\n",
    "        choice = input(\"Would you like to keep playing? Y or N \")\n",
    "\n",
    "        if choice not in ['Y','N']:\n",
    "            clear_output()\n",
    "            print(\"Sorry, I didn't understand. Please make sure to choose Y or N.\")\n",
    "\n",
    "    if choice == \"Y\":\n",
    "        return True\n",
    "    else:\n",
    "        return False"
   ]
  },
  {
   "cell_type": "code",
   "execution_count": 25,
   "metadata": {},
   "outputs": [],
   "source": [
    "def judge_winner(game_list):\n",
    "    for i in 0,1,2:\n",
    "        if (game_list[i][:] or game_list[:][i])== 1:\n",
    "            print(\"Player1 win!\")\n",
    "        elif (game_list[i][:] or game_list[:][i])== 2:\n",
    "            print(\"Player2 win!\")\n",
    "        else:\n",
    "            print(\"Draw\")"
   ]
  },
  {
   "cell_type": "code",
   "execution_count": 27,
   "metadata": {},
   "outputs": [],
   "source": [
    "from IPython.display import clear_output\n",
    "clear_output()"
   ]
  },
  {
   "cell_type": "code",
   "execution_count": 28,
   "metadata": {},
   "outputs": [
    {
     "name": "stdout",
     "output_type": "stream",
     "text": [
      "['2', '1', '1']\n",
      "['2', '2', 0]\n",
      "['2', 0, '2']\n",
      "Draw\n",
      "Draw\n",
      "Draw\n"
     ]
    }
   ],
   "source": [
    "# Tic Tac Toe game\n",
    "game_on = True\n",
    "game_list = [[0,0,0],[0,0,0],[0,0,0]]\n",
    "\n",
    "while game_on:\n",
    "    for i in range(0,9):\n",
    "        clear_output()\n",
    "        display_game(game_list)\n",
    "        position = position_choice()\n",
    "        game_list = replacement_choise(game_list,position[0],position[1])\n",
    "    judge_winner(game_list)\n",
    "    game_on = gameon_choice()"
   ]
  },
  {
   "cell_type": "code",
   "execution_count": null,
   "metadata": {},
   "outputs": [],
   "source": []
  }
 ],
 "metadata": {
  "kernelspec": {
   "display_name": "base",
   "language": "python",
   "name": "python3"
  },
  "language_info": {
   "codemirror_mode": {
    "name": "ipython",
    "version": 3
   },
   "file_extension": ".py",
   "mimetype": "text/x-python",
   "name": "python",
   "nbconvert_exporter": "python",
   "pygments_lexer": "ipython3",
   "version": "3.9.13"
  },
  "orig_nbformat": 4
 },
 "nbformat": 4,
 "nbformat_minor": 2
}
